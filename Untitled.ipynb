{
 "cells": [
  {
   "cell_type": "code",
   "execution_count": 12,
   "metadata": {
    "collapsed": true
   },
   "outputs": [],
   "source": [
    "import numpy as np\n",
    "import pandas as pd\n",
    "from PIL import Image\n",
    "import csv\n",
    "import os"
   ]
  },
  {
   "cell_type": "code",
   "execution_count": 2,
   "metadata": {
    "collapsed": true
   },
   "outputs": [],
   "source": [
    "num_classes = 1000\n",
    "train_dirs = list()\n",
    "train_labels = list()\n",
    "\n",
    "test_dirs = list()\n",
    "test_labels = list()"
   ]
  },
  {
   "cell_type": "code",
   "execution_count": 47,
   "metadata": {},
   "outputs": [
    {
     "name": "stdout",
     "output_type": "stream",
     "text": [
      "2\n",
      "317219\n",
      "58575\n"
     ]
    }
   ],
   "source": [
    "rootPath = '/media/hoangnh/PhanMem/PlantCleaf2017Dataset/Fruit,Flower'\n",
    "dictPath = './data/dictionary.csv'\n",
    "def assignLabel(rootPath, dictPath):\n",
    "    FIELD_NAMES = ['id', 'label']\n",
    "    dirs = list()\n",
    "    imageLabels = list()\n",
    "    subDirs = list()\n",
    "    subDirLabels = list()\n",
    "    try:\n",
    "        dictionary = pd.read_csv(dictPath)\n",
    "        ids = dictionary[\"id\"]\n",
    "        csv_labels = dictionary[\"label\"]\n",
    "        nIds = ids.shape[0]\n",
    "\n",
    "    except IOError, EmptyDataError:\n",
    "        dictionary = None\n",
    "        label_id = 0\n",
    "    except pd.io.common.EmptyDataError:\n",
    "        dictionary = None\n",
    "        label_id = 0\n",
    "    for sub_dir_flower in os.listdir(rootPath):\n",
    "            folderPath = os.path.join(rootPath, sub_dir_flower)\n",
    "            if dictionary is not None:\n",
    "                print str(sub_dir_flower)\n",
    "                temp = ids[ids == int(sub_dir_flower)]\n",
    "                if temp.index.size != 0:\n",
    "                    label_id = csv_labels[temp.index[0]]\n",
    "                else: \n",
    "                    label_id = nIds\n",
    "                    nIds = nIds + 1\n",
    "            subDirs.append(sub_dir_flower)\n",
    "            subDirLabels.append(label_id)\n",
    "            for img in os.listdir(folderPath):\n",
    "                try:\n",
    "                    imagePath = os.path.join(folderPath, img)\n",
    "                    pic = Image.open(imagePath)\n",
    "                except IOError:\n",
    "                    continue\n",
    "                if (pic.format != 'JPEG'):\n",
    "                    rgb_pic = pic.convert('RGB')\n",
    "                    rgb_pic.save(imagePath)\n",
    "\n",
    "                dirs.append(imagePath)\n",
    "                imageLabels.append(label_id)\n",
    "            if dictionary is None:\n",
    "                label_id = label_id + 1\n",
    "    dictRecords = np.asarray([subDirs, subDirLabels]).T\n",
    "    with open(dictPath, 'wb') as dictFile:\n",
    "        writer = csv.writer(dictFile)\n",
    "        writer.writerow(FIELD_NAMES)\n",
    "        writer.writerows(dictRecords)\n",
    "    return dirs, imageLabels"
   ]
  },
  {
   "cell_type": "code",
   "execution_count": 69,
   "metadata": {},
   "outputs": [
    {
     "name": "stdout",
     "output_type": "stream",
     "text": [
      "2\n",
      "317219\n",
      "58575\n"
     ]
    }
   ],
   "source": [
    "dirs, imageLabels = assignLabel(rootPath, dictPath)\n",
    "file = open('temp.txt', 'a')\n",
    "# records = np.concatenate((np.asarray(dirs), np.asarray(imageLabels)), axis = 0)\n",
    "for i in range(len(dirs)):\n",
    "    file.write(dirs[i] + \" \" + str(imageLabels[i]) + \"\\n\")\n",
    "file.close()"
   ]
  }
 ],
 "metadata": {
  "kernelspec": {
   "display_name": "Python 2",
   "language": "python",
   "name": "python2"
  },
  "language_info": {
   "codemirror_mode": {
    "name": "ipython",
    "version": 2
   },
   "file_extension": ".py",
   "mimetype": "text/x-python",
   "name": "python",
   "nbconvert_exporter": "python",
   "pygments_lexer": "ipython2",
   "version": "2.7.12"
  }
 },
 "nbformat": 4,
 "nbformat_minor": 2
}
