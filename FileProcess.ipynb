{
 "cells": [
  {
   "cell_type": "code",
   "execution_count": 115,
   "metadata": {
    "collapsed": true
   },
   "outputs": [],
   "source": [
    "import numpy as np\n",
    "import os\n",
    "from os import listdir\n",
    "import sys\n",
    "from shutil import copyfile"
   ]
  },
  {
   "cell_type": "markdown",
   "metadata": {},
   "source": [
    "### get array of files' position in each part:\n",
    "    input:\n",
    "        partsNum: number of parts\n",
    "        filesNum: number of files\n",
    "    return:\n",
    "        array of files' position(in list files) in each part"
   ]
  },
  {
   "cell_type": "code",
   "execution_count": 61,
   "metadata": {
    "collapsed": true
   },
   "outputs": [],
   "source": [
    "def getSubFilesPosition(partsNum, filesNum):\n",
    "    filesPosition = np.arange(filesNum)\n",
    "    np.random.shuffle(filesPosition)\n",
    "    filesNumInPart = filesNum//partsNum\n",
    "    y = filesNum - filesNumInPart*partsNum\n",
    "    x = partsNum - y\n",
    "    filesNumInParts = np.concatenate((filesNumInPart*np.ones((x,), dtype=np.int), (filesNumInPart+1)*np.ones((y,), dtype=np.int)), axis = 0)\n",
    "    np.random.shuffle(filesNumInParts)\n",
    "    index = 0\n",
    "#     temp = filesPosition.reshape(filesNumInParts)\n",
    "#     print temp\n",
    "    filesPositionInPart = list()\n",
    "    for num in filesNumInParts:\n",
    "        temp = filesPosition[index: index + num]\n",
    "        index += num\n",
    "        filesPositionInPart.append(temp)\n",
    "#         for j in range(num):\n",
    "#             temp\n",
    "    return filesPositionInPart"
   ]
  },
  {
   "cell_type": "markdown",
   "metadata": {},
   "source": [
    "### copy listFile from rootFolder to partsNum parts to destination"
   ]
  },
  {
   "cell_type": "code",
   "execution_count": 111,
   "metadata": {
    "collapsed": true
   },
   "outputs": [],
   "source": [
    "def separateFilesInSubFolder(rootFolder, folderName, listFile, partsNumber = 5, destination = '.'):\n",
    "    filesNumber = len(listFile)\n",
    "    filesPositionInParts = getSubFilesPosition(partsNum = partsNumber, filesNum = filesNumber)\n",
    "    for i in range(len(filesPositionInParts)):\n",
    "        for position in filesPositionInParts[i]:\n",
    "            fileName = listFile[position]\n",
    "            destPath = os.path.join(destination + 'part_' + str(i),folderName)\n",
    "            if not os.path.exists(destPath):\n",
    "                os.makedirs(destPath)\n",
    "            copyfile(os.path.join(rootFolder, fileName), os.path.join(destPath, fileName))\n"
   ]
  },
  {
   "cell_type": "code",
   "execution_count": 140,
   "metadata": {},
   "outputs": [],
   "source": [
    "def separateFilesInMasterFolder(rootFolder, partsNumber = 5, destination = '.'):\n",
    "    subFolders = listdir(rootFolder)\n",
    "    for subFolder in subFolders:\n",
    "        subRealPath = os.path.join(rootFolder, subFolder)\n",
    "        print subRealPath\n",
    "        if os.path.isdir(subRealPath):\n",
    "            listFile = files(subRealPath)\n",
    "            print 'list file', listFile\n",
    "#             listFile = listdir(subRealPath)\n",
    "            separateFilesInSubFolder(rootFolder = subRealPath, folderName = subFolder, listFile = listFile, partsNumber = partsNumber, destination = destination)"
   ]
  },
  {
   "cell_type": "code",
   "execution_count": 139,
   "metadata": {},
   "outputs": [],
   "source": [
    "def files(path):\n",
    "    listFile = list()\n",
    "    for file1 in os.listdir(path):\n",
    "        if os.path.isfile(os.path.join(path, file1)):\n",
    "            listFile.append(file1)\n",
    "    return listFile"
   ]
  },
  {
   "cell_type": "code",
   "execution_count": 142,
   "metadata": {},
   "outputs": [
    {
     "name": "stdout",
     "output_type": "stream",
     "text": [
      "./data/1\n",
      "list file ['3 (copy).txt', '8 (copy).txt', '6 (copy).txt', '4 (copy).txt', '2 (copy).txt', '1 (copy).txt', '5 (copy).txt', '7 (copy).txt']\n",
      "./data/2\n",
      "list file ['2.txt', '8.txt', '5.txt', '3.txt', '7.txt', '1.txt', '4.txt', '6.txt']\n"
     ]
    }
   ],
   "source": [
    "separateFilesInMasterFolder(rootFolder = './data', partsNumber = 5, destination = './devidedData/')"
   ]
  },
  {
   "cell_type": "code",
   "execution_count": null,
   "metadata": {
    "collapsed": true
   },
   "outputs": [],
   "source": []
  },
  {
   "cell_type": "code",
   "execution_count": 110,
   "metadata": {},
   "outputs": [],
   "source": [
    "separateFilesInSubFolder(rootFolder = './data', folderName = 'temp', listFile = listFile, partsNumber = 5, destination = './devidedData/')"
   ]
  },
  {
   "cell_type": "code",
   "execution_count": 106,
   "metadata": {},
   "outputs": [
    {
     "name": "stdout",
     "output_type": "stream",
     "text": [
      "['1.txt', '2.txt', '3.txt', '4.txt', '5.txt', '6.txt', '7.txt', '8.txt']\n"
     ]
    }
   ],
   "source": [
    "listFile = ['1.txt', '2.txt', '3.txt']\n",
    "listFile.append('4.txt')\n",
    "listFile.append('5.txt')\n",
    "listFile.append('6.txt')\n",
    "listFile.append('7.txt')\n",
    "listFile.append('8.txt')\n",
    "print listFile"
   ]
  },
  {
   "cell_type": "code",
   "execution_count": 71,
   "metadata": {
    "collapsed": true
   },
   "outputs": [],
   "source": [
    "for fileName in listFile:\n",
    "    file = open(fileName,'w') \n",
    "    file.write(fileName)\n",
    "    file.close"
   ]
  },
  {
   "cell_type": "code",
   "execution_count": null,
   "metadata": {
    "collapsed": true
   },
   "outputs": [],
   "source": [
    "def separateFile(rootPath, partNumber = 5, destination = '.', partName = 'part', includingXML = False, dictionary):"
   ]
  }
 ],
 "metadata": {
  "kernelspec": {
   "display_name": "Python 2",
   "language": "python",
   "name": "python2"
  },
  "language_info": {
   "codemirror_mode": {
    "name": "ipython",
    "version": 2
   },
   "file_extension": ".py",
   "mimetype": "text/x-python",
   "name": "python",
   "nbconvert_exporter": "python",
   "pygments_lexer": "ipython2",
   "version": "2.7.12"
  }
 },
 "nbformat": 4,
 "nbformat_minor": 2
}
